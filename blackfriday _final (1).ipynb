{
 "cells": [
  {
   "cell_type": "markdown",
   "id": "4732258c",
   "metadata": {},
   "source": [
    "  \n",
    "### Create a Regression model using the following algorithms on blackFriday dataset\n",
    "### 1. Linear Regression\n",
    "### 2. Support Vector Machine\n",
    "### 3. KNN"
   ]
  },
  {
   "cell_type": "code",
   "execution_count": 1,
   "id": "3acdaa61",
   "metadata": {},
   "outputs": [],
   "source": [
    "#import essential libraries\n",
    "\n",
    "import pandas as pd\n",
    "import numpy as np\n",
    "import matplotlib.pyplot as plt\n",
    "from sklearn import datasets,metrics,linear_model\n",
    "import matplotlib\n",
    "import seaborn as sns"
   ]
  },
  {
   "cell_type": "code",
   "execution_count": 2,
   "id": "be1540bb",
   "metadata": {},
   "outputs": [],
   "source": [
    "#load the dataset\n",
    "df=pd.read_csv(\"D:/machine_learning/blackFriday_train.csv\")"
   ]
  },
  {
   "cell_type": "code",
   "execution_count": 3,
   "id": "c747f1d0",
   "metadata": {},
   "outputs": [
    {
     "data": {
      "text/html": [
       "<div>\n",
       "<style scoped>\n",
       "    .dataframe tbody tr th:only-of-type {\n",
       "        vertical-align: middle;\n",
       "    }\n",
       "\n",
       "    .dataframe tbody tr th {\n",
       "        vertical-align: top;\n",
       "    }\n",
       "\n",
       "    .dataframe thead th {\n",
       "        text-align: right;\n",
       "    }\n",
       "</style>\n",
       "<table border=\"1\" class=\"dataframe\">\n",
       "  <thead>\n",
       "    <tr style=\"text-align: right;\">\n",
       "      <th></th>\n",
       "      <th>User_ID</th>\n",
       "      <th>Product_ID</th>\n",
       "      <th>Gender</th>\n",
       "      <th>Age</th>\n",
       "      <th>Occupation</th>\n",
       "      <th>City_Category</th>\n",
       "      <th>Stay_In_Current_City_Years</th>\n",
       "      <th>Marital_Status</th>\n",
       "      <th>Product_Category_1</th>\n",
       "      <th>Product_Category_2</th>\n",
       "      <th>Product_Category_3</th>\n",
       "      <th>Purchase</th>\n",
       "    </tr>\n",
       "  </thead>\n",
       "  <tbody>\n",
       "    <tr>\n",
       "      <th>0</th>\n",
       "      <td>1000001</td>\n",
       "      <td>P00069042</td>\n",
       "      <td>F</td>\n",
       "      <td>0-17</td>\n",
       "      <td>10</td>\n",
       "      <td>A</td>\n",
       "      <td>2</td>\n",
       "      <td>0</td>\n",
       "      <td>3</td>\n",
       "      <td>NaN</td>\n",
       "      <td>NaN</td>\n",
       "      <td>8370</td>\n",
       "    </tr>\n",
       "    <tr>\n",
       "      <th>1</th>\n",
       "      <td>1000001</td>\n",
       "      <td>P00248942</td>\n",
       "      <td>F</td>\n",
       "      <td>0-17</td>\n",
       "      <td>10</td>\n",
       "      <td>A</td>\n",
       "      <td>2</td>\n",
       "      <td>0</td>\n",
       "      <td>1</td>\n",
       "      <td>6.0</td>\n",
       "      <td>14.0</td>\n",
       "      <td>15200</td>\n",
       "    </tr>\n",
       "    <tr>\n",
       "      <th>2</th>\n",
       "      <td>1000001</td>\n",
       "      <td>P00087842</td>\n",
       "      <td>F</td>\n",
       "      <td>0-17</td>\n",
       "      <td>10</td>\n",
       "      <td>A</td>\n",
       "      <td>2</td>\n",
       "      <td>0</td>\n",
       "      <td>12</td>\n",
       "      <td>NaN</td>\n",
       "      <td>NaN</td>\n",
       "      <td>1422</td>\n",
       "    </tr>\n",
       "    <tr>\n",
       "      <th>3</th>\n",
       "      <td>1000001</td>\n",
       "      <td>P00085442</td>\n",
       "      <td>F</td>\n",
       "      <td>0-17</td>\n",
       "      <td>10</td>\n",
       "      <td>A</td>\n",
       "      <td>2</td>\n",
       "      <td>0</td>\n",
       "      <td>12</td>\n",
       "      <td>14.0</td>\n",
       "      <td>NaN</td>\n",
       "      <td>1057</td>\n",
       "    </tr>\n",
       "    <tr>\n",
       "      <th>4</th>\n",
       "      <td>1000002</td>\n",
       "      <td>P00285442</td>\n",
       "      <td>M</td>\n",
       "      <td>55+</td>\n",
       "      <td>16</td>\n",
       "      <td>C</td>\n",
       "      <td>4+</td>\n",
       "      <td>0</td>\n",
       "      <td>8</td>\n",
       "      <td>NaN</td>\n",
       "      <td>NaN</td>\n",
       "      <td>7969</td>\n",
       "    </tr>\n",
       "  </tbody>\n",
       "</table>\n",
       "</div>"
      ],
      "text/plain": [
       "   User_ID Product_ID Gender   Age  Occupation City_Category  \\\n",
       "0  1000001  P00069042      F  0-17          10             A   \n",
       "1  1000001  P00248942      F  0-17          10             A   \n",
       "2  1000001  P00087842      F  0-17          10             A   \n",
       "3  1000001  P00085442      F  0-17          10             A   \n",
       "4  1000002  P00285442      M   55+          16             C   \n",
       "\n",
       "  Stay_In_Current_City_Years  Marital_Status  Product_Category_1  \\\n",
       "0                          2               0                   3   \n",
       "1                          2               0                   1   \n",
       "2                          2               0                  12   \n",
       "3                          2               0                  12   \n",
       "4                         4+               0                   8   \n",
       "\n",
       "   Product_Category_2  Product_Category_3  Purchase  \n",
       "0                 NaN                 NaN      8370  \n",
       "1                 6.0                14.0     15200  \n",
       "2                 NaN                 NaN      1422  \n",
       "3                14.0                 NaN      1057  \n",
       "4                 NaN                 NaN      7969  "
      ]
     },
     "execution_count": 3,
     "metadata": {},
     "output_type": "execute_result"
    }
   ],
   "source": [
    "df.head(5)"
   ]
  },
  {
   "cell_type": "code",
   "execution_count": 4,
   "id": "1952d6f9",
   "metadata": {},
   "outputs": [
    {
     "data": {
      "text/plain": [
       "User_ID                            0\n",
       "Product_ID                         0\n",
       "Gender                             0\n",
       "Age                                0\n",
       "Occupation                         0\n",
       "City_Category                      0\n",
       "Stay_In_Current_City_Years         0\n",
       "Marital_Status                     0\n",
       "Product_Category_1                 0\n",
       "Product_Category_2            173638\n",
       "Product_Category_3            383247\n",
       "Purchase                           0\n",
       "dtype: int64"
      ]
     },
     "execution_count": 4,
     "metadata": {},
     "output_type": "execute_result"
    }
   ],
   "source": [
    "# check null values\n",
    "df.isnull().sum()"
   ]
  },
  {
   "cell_type": "code",
   "execution_count": 5,
   "id": "b2ba91e6",
   "metadata": {},
   "outputs": [],
   "source": [
    "# fill NA values using mode\n",
    "\n",
    "a=df['Product_Category_2'].mode()[0]\n"
   ]
  },
  {
   "cell_type": "code",
   "execution_count": 6,
   "id": "7a705f3c",
   "metadata": {},
   "outputs": [],
   "source": [
    "df['Product_Category_2'].fillna(a,inplace=True) "
   ]
  },
  {
   "cell_type": "code",
   "execution_count": 7,
   "id": "6d4313a7",
   "metadata": {},
   "outputs": [],
   "source": [
    "b=df['Product_Category_3'].mode()[0]\n"
   ]
  },
  {
   "cell_type": "code",
   "execution_count": 8,
   "id": "3349189b",
   "metadata": {},
   "outputs": [],
   "source": [
    "b=df['Product_Category_3'].fillna(b,inplace=True)"
   ]
  },
  {
   "cell_type": "code",
   "execution_count": 9,
   "id": "6941732b",
   "metadata": {},
   "outputs": [
    {
     "data": {
      "text/plain": [
       "User_ID                       0\n",
       "Product_ID                    0\n",
       "Gender                        0\n",
       "Age                           0\n",
       "Occupation                    0\n",
       "City_Category                 0\n",
       "Stay_In_Current_City_Years    0\n",
       "Marital_Status                0\n",
       "Product_Category_1            0\n",
       "Product_Category_2            0\n",
       "Product_Category_3            0\n",
       "Purchase                      0\n",
       "dtype: int64"
      ]
     },
     "execution_count": 9,
     "metadata": {},
     "output_type": "execute_result"
    }
   ],
   "source": [
    "df.isnull().sum()"
   ]
  },
  {
   "cell_type": "code",
   "execution_count": 10,
   "id": "2715766a",
   "metadata": {},
   "outputs": [
    {
     "data": {
      "text/plain": [
       "<AxesSubplot:>"
      ]
     },
     "execution_count": 10,
     "metadata": {},
     "output_type": "execute_result"
    },
    {
     "data": {
      "image/png": "[encoded data removed]",
      "text/plain": [
       "<Figure size 432x288 with 2 Axes>"
      ]
     },
     "metadata": {
      "needs_background": "light"
     },
     "output_type": "display_data"
    }
   ],
   "source": [
    "sns.heatmap(df.corr(),annot=True)"
   ]
  },
  {
   "cell_type": "code",
   "execution_count": 11,
   "id": "9b75e763",
   "metadata": {},
   "outputs": [],
   "source": [
    "#drop unwanted columns\n",
    "df.drop(['User_ID','Product_ID'],axis=1,inplace=True)"
   ]
  },
  {
   "cell_type": "code",
   "execution_count": 12,
   "id": "6a1e1d6c",
   "metadata": {},
   "outputs": [
    {
     "data": {
      "text/plain": [
       "array(['F', 'M'], dtype=object)"
      ]
     },
     "execution_count": 12,
     "metadata": {},
     "output_type": "execute_result"
    }
   ],
   "source": [
    "df['Gender'].unique()"
   ]
  },
  {
   "cell_type": "markdown",
   "id": "233eaf2a",
   "metadata": {},
   "source": [
    "#convert categorial data into numeric data"
   ]
  },
  {
   "cell_type": "code",
   "execution_count": 13,
   "id": "7b5a65af",
   "metadata": {},
   "outputs": [],
   "source": [
    "df['Gender']=df['Gender'].map({'F':0, 'M':1})"
   ]
  },
  {
   "cell_type": "code",
   "execution_count": 14,
   "id": "6723f1f1",
   "metadata": {},
   "outputs": [
    {
     "data": {
      "text/plain": [
       "array(['0-17', '55+', '26-35', '46-50', '51-55', '36-45', '18-25'],\n",
       "      dtype=object)"
      ]
     },
     "execution_count": 14,
     "metadata": {},
     "output_type": "execute_result"
    }
   ],
   "source": [
    "df['Age'].unique()"
   ]
  },
  {
   "cell_type": "code",
   "execution_count": 15,
   "id": "5888ddcf",
   "metadata": {},
   "outputs": [],
   "source": [
    "df['Age']=df['Age'].map({'0-17':1, '55+':2, '26-35':3, '46-50':4, '51-55':5, '36-45':6, '18-25':7})"
   ]
  },
  {
   "cell_type": "code",
   "execution_count": 16,
   "id": "7a2d870a",
   "metadata": {},
   "outputs": [
    {
     "data": {
      "text/plain": [
       "array(['A', 'C', 'B'], dtype=object)"
      ]
     },
     "execution_count": 16,
     "metadata": {},
     "output_type": "execute_result"
    }
   ],
   "source": [
    "df['City_Category'].unique()"
   ]
  },
  {
   "cell_type": "code",
   "execution_count": 17,
   "id": "f4fa52f2",
   "metadata": {},
   "outputs": [],
   "source": [
    "df['City_Category']=df['City_Category'].map({'A':1, 'C':2, 'B':3})"
   ]
  },
  {
   "cell_type": "code",
   "execution_count": 18,
   "id": "a265f021",
   "metadata": {},
   "outputs": [
    {
     "name": "stderr",
     "output_type": "stream",
     "text": [
      "C:\\Users\\DjS\\AppData\\Local\\Temp\\ipykernel_7592\\1951888631.py:1: FutureWarning: The default value of regex will change from True to False in a future version. In addition, single character regular expressions will *not* be treated as literal strings when regex=True.\n",
      "  df[\"Stay_In_Current_City_Years\"]=df[\"Stay_In_Current_City_Years\"].str.replace(\"+\",\"\")\n"
     ]
    }
   ],
   "source": [
    "df[\"Stay_In_Current_City_Years\"]=df[\"Stay_In_Current_City_Years\"].str.replace(\"+\",\"\")"
   ]
  },
  {
   "cell_type": "code",
   "execution_count": 19,
   "id": "03052da6",
   "metadata": {},
   "outputs": [
    {
     "data": {
      "text/html": [
       "<div>\n",
       "<style scoped>\n",
       "    .dataframe tbody tr th:only-of-type {\n",
       "        vertical-align: middle;\n",
       "    }\n",
       "\n",
       "    .dataframe tbody tr th {\n",
       "        vertical-align: top;\n",
       "    }\n",
       "\n",
       "    .dataframe thead th {\n",
       "        text-align: right;\n",
       "    }\n",
       "</style>\n",
       "<table border=\"1\" class=\"dataframe\">\n",
       "  <thead>\n",
       "    <tr style=\"text-align: right;\">\n",
       "      <th></th>\n",
       "      <th>Gender</th>\n",
       "      <th>Age</th>\n",
       "      <th>Occupation</th>\n",
       "      <th>City_Category</th>\n",
       "      <th>Stay_In_Current_City_Years</th>\n",
       "      <th>Marital_Status</th>\n",
       "      <th>Product_Category_1</th>\n",
       "      <th>Product_Category_2</th>\n",
       "      <th>Product_Category_3</th>\n",
       "      <th>Purchase</th>\n",
       "    </tr>\n",
       "  </thead>\n",
       "  <tbody>\n",
       "    <tr>\n",
       "      <th>0</th>\n",
       "      <td>0</td>\n",
       "      <td>1</td>\n",
       "      <td>10</td>\n",
       "      <td>1</td>\n",
       "      <td>2</td>\n",
       "      <td>0</td>\n",
       "      <td>3</td>\n",
       "      <td>8.0</td>\n",
       "      <td>16.0</td>\n",
       "      <td>8370</td>\n",
       "    </tr>\n",
       "    <tr>\n",
       "      <th>1</th>\n",
       "      <td>0</td>\n",
       "      <td>1</td>\n",
       "      <td>10</td>\n",
       "      <td>1</td>\n",
       "      <td>2</td>\n",
       "      <td>0</td>\n",
       "      <td>1</td>\n",
       "      <td>6.0</td>\n",
       "      <td>14.0</td>\n",
       "      <td>15200</td>\n",
       "    </tr>\n",
       "    <tr>\n",
       "      <th>2</th>\n",
       "      <td>0</td>\n",
       "      <td>1</td>\n",
       "      <td>10</td>\n",
       "      <td>1</td>\n",
       "      <td>2</td>\n",
       "      <td>0</td>\n",
       "      <td>12</td>\n",
       "      <td>8.0</td>\n",
       "      <td>16.0</td>\n",
       "      <td>1422</td>\n",
       "    </tr>\n",
       "    <tr>\n",
       "      <th>3</th>\n",
       "      <td>0</td>\n",
       "      <td>1</td>\n",
       "      <td>10</td>\n",
       "      <td>1</td>\n",
       "      <td>2</td>\n",
       "      <td>0</td>\n",
       "      <td>12</td>\n",
       "      <td>14.0</td>\n",
       "      <td>16.0</td>\n",
       "      <td>1057</td>\n",
       "    </tr>\n",
       "    <tr>\n",
       "      <th>4</th>\n",
       "      <td>1</td>\n",
       "      <td>2</td>\n",
       "      <td>16</td>\n",
       "      <td>2</td>\n",
       "      <td>4</td>\n",
       "      <td>0</td>\n",
       "      <td>8</td>\n",
       "      <td>8.0</td>\n",
       "      <td>16.0</td>\n",
       "      <td>7969</td>\n",
       "    </tr>\n",
       "  </tbody>\n",
       "</table>\n",
       "</div>"
      ],
      "text/plain": [
       "   Gender  Age  Occupation  City_Category Stay_In_Current_City_Years  \\\n",
       "0       0    1          10              1                          2   \n",
       "1       0    1          10              1                          2   \n",
       "2       0    1          10              1                          2   \n",
       "3       0    1          10              1                          2   \n",
       "4       1    2          16              2                          4   \n",
       "\n",
       "   Marital_Status  Product_Category_1  Product_Category_2  Product_Category_3  \\\n",
       "0               0                   3                 8.0                16.0   \n",
       "1               0                   1                 6.0                14.0   \n",
       "2               0                  12                 8.0                16.0   \n",
       "3               0                  12                14.0                16.0   \n",
       "4               0                   8                 8.0                16.0   \n",
       "\n",
       "   Purchase  \n",
       "0      8370  \n",
       "1     15200  \n",
       "2      1422  \n",
       "3      1057  \n",
       "4      7969  "
      ]
     },
     "execution_count": 19,
     "metadata": {},
     "output_type": "execute_result"
    }
   ],
   "source": [
    "df.head(5)"
   ]
  },
  {
   "cell_type": "code",
   "execution_count": 20,
   "id": "fa8b35d0",
   "metadata": {},
   "outputs": [
    {
     "data": {
      "text/plain": [
       "Index(['Gender', 'Age', 'Occupation', 'City_Category',\n",
       "       'Stay_In_Current_City_Years', 'Marital_Status', 'Product_Category_1',\n",
       "       'Product_Category_2', 'Product_Category_3', 'Purchase'],\n",
       "      dtype='object')"
      ]
     },
     "execution_count": 20,
     "metadata": {},
     "output_type": "execute_result"
    }
   ],
   "source": [
    "df.columns"
   ]
  },
  {
   "cell_type": "code",
   "execution_count": 21,
   "id": "de6b9e86",
   "metadata": {},
   "outputs": [
    {
     "data": {
      "text/plain": [
       "(550068, 10)"
      ]
     },
     "execution_count": 21,
     "metadata": {},
     "output_type": "execute_result"
    }
   ],
   "source": [
    "df.shape"
   ]
  },
  {
   "cell_type": "code",
   "execution_count": 22,
   "id": "41e075a4",
   "metadata": {},
   "outputs": [
    {
     "data": {
      "text/html": [
       "<div>\n",
       "<style scoped>\n",
       "    .dataframe tbody tr th:only-of-type {\n",
       "        vertical-align: middle;\n",
       "    }\n",
       "\n",
       "    .dataframe tbody tr th {\n",
       "        vertical-align: top;\n",
       "    }\n",
       "\n",
       "    .dataframe thead th {\n",
       "        text-align: right;\n",
       "    }\n",
       "</style>\n",
       "<table border=\"1\" class=\"dataframe\">\n",
       "  <thead>\n",
       "    <tr style=\"text-align: right;\">\n",
       "      <th></th>\n",
       "      <th>Gender</th>\n",
       "      <th>Age</th>\n",
       "      <th>Occupation</th>\n",
       "      <th>City_Category</th>\n",
       "      <th>Marital_Status</th>\n",
       "      <th>Product_Category_1</th>\n",
       "      <th>Product_Category_2</th>\n",
       "      <th>Product_Category_3</th>\n",
       "      <th>Purchase</th>\n",
       "    </tr>\n",
       "  </thead>\n",
       "  <tbody>\n",
       "    <tr>\n",
       "      <th>count</th>\n",
       "      <td>550068.000000</td>\n",
       "      <td>550068.000000</td>\n",
       "      <td>550068.000000</td>\n",
       "      <td>550068.000000</td>\n",
       "      <td>550068.000000</td>\n",
       "      <td>550068.000000</td>\n",
       "      <td>550068.000000</td>\n",
       "      <td>550068.000000</td>\n",
       "      <td>550068.000000</td>\n",
       "    </tr>\n",
       "    <tr>\n",
       "      <th>mean</th>\n",
       "      <td>0.753105</td>\n",
       "      <td>4.453773</td>\n",
       "      <td>8.076707</td>\n",
       "      <td>2.151714</td>\n",
       "      <td>0.409653</td>\n",
       "      <td>5.404270</td>\n",
       "      <td>9.260768</td>\n",
       "      <td>14.989567</td>\n",
       "      <td>9263.968713</td>\n",
       "    </tr>\n",
       "    <tr>\n",
       "      <th>std</th>\n",
       "      <td>0.431205</td>\n",
       "      <td>1.759929</td>\n",
       "      <td>6.522660</td>\n",
       "      <td>0.815963</td>\n",
       "      <td>0.491770</td>\n",
       "      <td>3.936211</td>\n",
       "      <td>4.294093</td>\n",
       "      <td>2.739846</td>\n",
       "      <td>5023.065394</td>\n",
       "    </tr>\n",
       "    <tr>\n",
       "      <th>min</th>\n",
       "      <td>0.000000</td>\n",
       "      <td>1.000000</td>\n",
       "      <td>0.000000</td>\n",
       "      <td>1.000000</td>\n",
       "      <td>0.000000</td>\n",
       "      <td>1.000000</td>\n",
       "      <td>2.000000</td>\n",
       "      <td>3.000000</td>\n",
       "      <td>12.000000</td>\n",
       "    </tr>\n",
       "    <tr>\n",
       "      <th>25%</th>\n",
       "      <td>1.000000</td>\n",
       "      <td>3.000000</td>\n",
       "      <td>2.000000</td>\n",
       "      <td>1.000000</td>\n",
       "      <td>0.000000</td>\n",
       "      <td>1.000000</td>\n",
       "      <td>8.000000</td>\n",
       "      <td>16.000000</td>\n",
       "      <td>5823.000000</td>\n",
       "    </tr>\n",
       "    <tr>\n",
       "      <th>50%</th>\n",
       "      <td>1.000000</td>\n",
       "      <td>4.000000</td>\n",
       "      <td>7.000000</td>\n",
       "      <td>2.000000</td>\n",
       "      <td>0.000000</td>\n",
       "      <td>5.000000</td>\n",
       "      <td>8.000000</td>\n",
       "      <td>16.000000</td>\n",
       "      <td>8047.000000</td>\n",
       "    </tr>\n",
       "    <tr>\n",
       "      <th>75%</th>\n",
       "      <td>1.000000</td>\n",
       "      <td>6.000000</td>\n",
       "      <td>14.000000</td>\n",
       "      <td>3.000000</td>\n",
       "      <td>1.000000</td>\n",
       "      <td>8.000000</td>\n",
       "      <td>14.000000</td>\n",
       "      <td>16.000000</td>\n",
       "      <td>12054.000000</td>\n",
       "    </tr>\n",
       "    <tr>\n",
       "      <th>max</th>\n",
       "      <td>1.000000</td>\n",
       "      <td>7.000000</td>\n",
       "      <td>20.000000</td>\n",
       "      <td>3.000000</td>\n",
       "      <td>1.000000</td>\n",
       "      <td>20.000000</td>\n",
       "      <td>18.000000</td>\n",
       "      <td>18.000000</td>\n",
       "      <td>23961.000000</td>\n",
       "    </tr>\n",
       "  </tbody>\n",
       "</table>\n",
       "</div>"
      ],
      "text/plain": [
       "              Gender            Age     Occupation  City_Category  \\\n",
       "count  550068.000000  550068.000000  550068.000000  550068.000000   \n",
       "mean        0.753105       4.453773       8.076707       2.151714   \n",
       "std         0.431205       1.759929       6.522660       0.815963   \n",
       "min         0.000000       1.000000       0.000000       1.000000   \n",
       "25%         1.000000       3.000000       2.000000       1.000000   \n",
       "50%         1.000000       4.000000       7.000000       2.000000   \n",
       "75%         1.000000       6.000000      14.000000       3.000000   \n",
       "max         1.000000       7.000000      20.000000       3.000000   \n",
       "\n",
       "       Marital_Status  Product_Category_1  Product_Category_2  \\\n",
       "count   550068.000000       550068.000000       550068.000000   \n",
       "mean         0.409653            5.404270            9.260768   \n",
       "std          0.491770            3.936211            4.294093   \n",
       "min          0.000000            1.000000            2.000000   \n",
       "25%          0.000000            1.000000            8.000000   \n",
       "50%          0.000000            5.000000            8.000000   \n",
       "75%          1.000000            8.000000           14.000000   \n",
       "max          1.000000           20.000000           18.000000   \n",
       "\n",
       "       Product_Category_3       Purchase  \n",
       "count       550068.000000  550068.000000  \n",
       "mean            14.989567    9263.968713  \n",
       "std              2.739846    5023.065394  \n",
       "min              3.000000      12.000000  \n",
       "25%             16.000000    5823.000000  \n",
       "50%             16.000000    8047.000000  \n",
       "75%             16.000000   12054.000000  \n",
       "max             18.000000   23961.000000  "
      ]
     },
     "execution_count": 22,
     "metadata": {},
     "output_type": "execute_result"
    }
   ],
   "source": [
    "df.describe()"
   ]
  },
  {
   "cell_type": "code",
   "execution_count": 23,
   "id": "b5aa7e0f",
   "metadata": {
    "scrolled": true
   },
   "outputs": [
    {
     "data": {
      "text/plain": [
       "array([[-1.74651251, -1.96245227,  0.29486356, ..., -0.29360542,\n",
       "         0.36879231, -0.1779729 ],\n",
       "       [-1.74651251, -1.96245227,  0.29486356, ..., -0.75936196,\n",
       "        -0.36117636,  1.1817558 ],\n",
       "       [-1.74651251, -1.96245227,  0.29486356, ..., -0.29360542,\n",
       "         0.36879231, -1.56119326],\n",
       "       ...,\n",
       "       [-1.74651251, -0.82604158,  1.06142262, ..., -0.29360542,\n",
       "         0.36879231, -1.81701338],\n",
       "       [-1.74651251, -1.39424693, -1.08494277, ..., -0.29360542,\n",
       "         0.36879231, -1.77162273],\n",
       "       [-1.74651251, -0.25783624, -1.23825458, ..., -0.29360542,\n",
       "         0.36879231, -1.7467375 ]])"
      ]
     },
     "execution_count": 23,
     "metadata": {},
     "output_type": "execute_result"
    }
   ],
   "source": [
    "# Normalize the data\n",
    "\n",
    "from sklearn.preprocessing import StandardScaler\n",
    "scaled = StandardScaler()\n",
    "scaled.fit(df)\n",
    "scaled_data = scaled.transform(df)\n",
    "scaled_data"
   ]
  },
  {
   "cell_type": "code",
   "execution_count": 24,
   "id": "94469075",
   "metadata": {},
   "outputs": [
    {
     "data": {
      "text/html": [
       "<div>\n",
       "<style scoped>\n",
       "    .dataframe tbody tr th:only-of-type {\n",
       "        vertical-align: middle;\n",
       "    }\n",
       "\n",
       "    .dataframe tbody tr th {\n",
       "        vertical-align: top;\n",
       "    }\n",
       "\n",
       "    .dataframe thead th {\n",
       "        text-align: right;\n",
       "    }\n",
       "</style>\n",
       "<table border=\"1\" class=\"dataframe\">\n",
       "  <thead>\n",
       "    <tr style=\"text-align: right;\">\n",
       "      <th></th>\n",
       "      <th>Gender</th>\n",
       "      <th>Age</th>\n",
       "      <th>Occupation</th>\n",
       "      <th>City_Category</th>\n",
       "      <th>Stay_In_Current_City_Years</th>\n",
       "      <th>Marital_Status</th>\n",
       "      <th>Product_Category_1</th>\n",
       "      <th>Product_Category_2</th>\n",
       "      <th>Product_Category_3</th>\n",
       "      <th>Purchase</th>\n",
       "    </tr>\n",
       "  </thead>\n",
       "  <tbody>\n",
       "    <tr>\n",
       "      <th>0</th>\n",
       "      <td>-1.746513</td>\n",
       "      <td>-1.962452</td>\n",
       "      <td>0.294864</td>\n",
       "      <td>-1.411480</td>\n",
       "      <td>0.109801</td>\n",
       "      <td>-0.833018</td>\n",
       "      <td>-0.610809</td>\n",
       "      <td>-0.293605</td>\n",
       "      <td>0.368792</td>\n",
       "      <td>-0.177973</td>\n",
       "    </tr>\n",
       "    <tr>\n",
       "      <th>1</th>\n",
       "      <td>-1.746513</td>\n",
       "      <td>-1.962452</td>\n",
       "      <td>0.294864</td>\n",
       "      <td>-1.411480</td>\n",
       "      <td>0.109801</td>\n",
       "      <td>-0.833018</td>\n",
       "      <td>-1.118912</td>\n",
       "      <td>-0.759362</td>\n",
       "      <td>-0.361176</td>\n",
       "      <td>1.181756</td>\n",
       "    </tr>\n",
       "    <tr>\n",
       "      <th>2</th>\n",
       "      <td>-1.746513</td>\n",
       "      <td>-1.962452</td>\n",
       "      <td>0.294864</td>\n",
       "      <td>-1.411480</td>\n",
       "      <td>0.109801</td>\n",
       "      <td>-0.833018</td>\n",
       "      <td>1.675656</td>\n",
       "      <td>-0.293605</td>\n",
       "      <td>0.368792</td>\n",
       "      <td>-1.561193</td>\n",
       "    </tr>\n",
       "    <tr>\n",
       "      <th>3</th>\n",
       "      <td>-1.746513</td>\n",
       "      <td>-1.962452</td>\n",
       "      <td>0.294864</td>\n",
       "      <td>-1.411480</td>\n",
       "      <td>0.109801</td>\n",
       "      <td>-0.833018</td>\n",
       "      <td>1.675656</td>\n",
       "      <td>1.103664</td>\n",
       "      <td>0.368792</td>\n",
       "      <td>-1.633858</td>\n",
       "    </tr>\n",
       "    <tr>\n",
       "      <th>4</th>\n",
       "      <td>0.572570</td>\n",
       "      <td>-1.394247</td>\n",
       "      <td>1.214734</td>\n",
       "      <td>-0.185933</td>\n",
       "      <td>1.660861</td>\n",
       "      <td>-0.833018</td>\n",
       "      <td>0.659449</td>\n",
       "      <td>-0.293605</td>\n",
       "      <td>0.368792</td>\n",
       "      <td>-0.257805</td>\n",
       "    </tr>\n",
       "  </tbody>\n",
       "</table>\n",
       "</div>"
      ],
      "text/plain": [
       "     Gender       Age  Occupation  City_Category  Stay_In_Current_City_Years  \\\n",
       "0 -1.746513 -1.962452    0.294864      -1.411480                    0.109801   \n",
       "1 -1.746513 -1.962452    0.294864      -1.411480                    0.109801   \n",
       "2 -1.746513 -1.962452    0.294864      -1.411480                    0.109801   \n",
       "3 -1.746513 -1.962452    0.294864      -1.411480                    0.109801   \n",
       "4  0.572570 -1.394247    1.214734      -0.185933                    1.660861   \n",
       "\n",
       "   Marital_Status  Product_Category_1  Product_Category_2  Product_Category_3  \\\n",
       "0       -0.833018           -0.610809           -0.293605            0.368792   \n",
       "1       -0.833018           -1.118912           -0.759362           -0.361176   \n",
       "2       -0.833018            1.675656           -0.293605            0.368792   \n",
       "3       -0.833018            1.675656            1.103664            0.368792   \n",
       "4       -0.833018            0.659449           -0.293605            0.368792   \n",
       "\n",
       "   Purchase  \n",
       "0 -0.177973  \n",
       "1  1.181756  \n",
       "2 -1.561193  \n",
       "3 -1.633858  \n",
       "4 -0.257805  "
      ]
     },
     "execution_count": 24,
     "metadata": {},
     "output_type": "execute_result"
    }
   ],
   "source": [
    "#create dataframe of scaled data\n",
    "df_scaled=pd.DataFrame(scaled_data,columns=['Gender', 'Age', 'Occupation', 'City_Category',\n",
    "       'Stay_In_Current_City_Years', 'Marital_Status', 'Product_Category_1',\n",
    "       'Product_Category_2', 'Product_Category_3', 'Purchase'])\n",
    "df_scaled.head(5)"
   ]
  },
  {
   "cell_type": "code",
   "execution_count": 25,
   "id": "53f12285",
   "metadata": {},
   "outputs": [
    {
     "data": {
      "text/plain": [
       "(15000,)"
      ]
     },
     "execution_count": 25,
     "metadata": {},
     "output_type": "execute_result"
    }
   ],
   "source": [
    "# take random sample and define dependent and independent variable\n",
    "\n",
    "df2=df_scaled.sample(15000,random_state=20)\n",
    "x=df2.iloc[:,:-1].values   #dependent\n",
    "\n",
    "y=df2.iloc[:,-1].values    #independent\n",
    "\n",
    "x.shape\n",
    "y.shape"
   ]
  },
  {
   "cell_type": "markdown",
   "id": "fe2132cc",
   "metadata": {},
   "source": [
    "# Linear regression"
   ]
  },
  {
   "cell_type": "code",
   "execution_count": 26,
   "id": "44148df6",
   "metadata": {},
   "outputs": [],
   "source": [
    "from sklearn.linear_model import LinearRegression\n",
    "from sklearn.model_selection import train_test_split\n",
    "x_train,x_test,y_train,y_test=train_test_split(x,y,test_size=0.3,random_state=15)"
   ]
  },
  {
   "cell_type": "code",
   "execution_count": 27,
   "id": "2503dfeb",
   "metadata": {},
   "outputs": [
    {
     "data": {
      "text/plain": [
       "LinearRegression()"
      ]
     },
     "execution_count": 27,
     "metadata": {},
     "output_type": "execute_result"
    }
   ],
   "source": [
    "reg=LinearRegression()\n",
    "reg.fit(x_train,y_train)"
   ]
  },
  {
   "cell_type": "code",
   "execution_count": 28,
   "id": "8c879a0b",
   "metadata": {},
   "outputs": [
    {
     "data": {
      "text/plain": [
       "array([-0.50499671, -0.27350598,  0.38730747, ..., -0.88718237,\n",
       "       -0.21041448,  0.0126027 ])"
      ]
     },
     "execution_count": 28,
     "metadata": {},
     "output_type": "execute_result"
    }
   ],
   "source": [
    "y_pred=reg.predict(x_test)\n",
    "y_pred"
   ]
  },
  {
   "cell_type": "code",
   "execution_count": 29,
   "id": "fa771166",
   "metadata": {},
   "outputs": [
    {
     "data": {
      "text/plain": [
       "0.12979034272039602"
      ]
     },
     "execution_count": 29,
     "metadata": {},
     "output_type": "execute_result"
    }
   ],
   "source": [
    "from sklearn.metrics import r2_score\n",
    "score=r2_score(y_test,y_pred)\n",
    "score"
   ]
  },
  {
   "cell_type": "code",
   "execution_count": 30,
   "id": "51920593",
   "metadata": {},
   "outputs": [
    {
     "data": {
      "text/plain": [
       "0.9265910806932389"
      ]
     },
     "execution_count": 30,
     "metadata": {},
     "output_type": "execute_result"
    }
   ],
   "source": [
    "from sklearn.metrics import mean_squared_error\n",
    "mse=mean_squared_error(y_test,y_pred)\n",
    "mse\n",
    "rmse=np.sqrt(mse)\n",
    "rmse"
   ]
  },
  {
   "cell_type": "code",
   "execution_count": 31,
   "id": "a4c9536f",
   "metadata": {},
   "outputs": [
    {
     "data": {
      "text/plain": [
       "<matplotlib.collections.LineCollection at 0x1bae5e9bb80>"
      ]
     },
     "execution_count": 31,
     "metadata": {},
     "output_type": "execute_result"
    },
    {
     "data": {
      "image/png": "[encoded data removed]",
      "text/plain": [
       "<Figure size 432x288 with 1 Axes>"
      ]
     },
     "metadata": {},
     "output_type": "display_data"
    }
   ],
   "source": [
    "plt.style.use('fivethirtyeight')\n",
    "plt.scatter(reg.predict(x_train),reg.predict(x_train)-y_train,\n",
    "    color='green',s=10,label='train data')\n",
    "plt.scatter(reg.predict(x_test),reg.predict(x_test)-y_test,\n",
    "    color='blue',s=10,label='test data')\n",
    "plt.hlines(y=0, xmin=0, xmax=50, linewidth=2)"
   ]
  },
  {
   "cell_type": "code",
   "execution_count": 32,
   "id": "b14eaa3e",
   "metadata": {},
   "outputs": [
    {
     "data": {
      "text/plain": [
       "<matplotlib.collections.PathCollection at 0x1bade370670>"
      ]
     },
     "execution_count": 32,
     "metadata": {},
     "output_type": "execute_result"
    },
    {
     "data": {
      "image/png": "[encoded data removed]",
      "text/plain": [
       "<Figure size 432x288 with 1 Axes>"
      ]
     },
     "metadata": {},
     "output_type": "display_data"
    }
   ],
   "source": [
    "plt.scatter(y_test,y_pred)"
   ]
  },
  {
   "cell_type": "code",
   "execution_count": null,
   "id": "577be240",
   "metadata": {},
   "outputs": [],
   "source": []
  },
  {
   "cell_type": "markdown",
   "id": "c329cb86",
   "metadata": {},
   "source": [
    "# KNN algorithm"
   ]
  },
  {
   "cell_type": "code",
   "execution_count": 34,
   "id": "a6515942",
   "metadata": {},
   "outputs": [
    {
     "data": {
      "text/plain": [
       "KNeighborsRegressor()"
      ]
     },
     "execution_count": 34,
     "metadata": {},
     "output_type": "execute_result"
    }
   ],
   "source": [
    "#Fitting K-NN classifier to the training set  \n",
    "\n",
    "from sklearn.neighbors import KNeighborsRegressor\n",
    "regressor= KNeighborsRegressor(n_neighbors=5) \n",
    "regressor.fit(x_train, y_train) "
   ]
  },
  {
   "cell_type": "code",
   "execution_count": 35,
   "id": "49e26148",
   "metadata": {},
   "outputs": [],
   "source": [
    "#Predicting the test set result  \n",
    "y_predict= regressor.predict(x_test) "
   ]
  },
  {
   "cell_type": "code",
   "execution_count": 36,
   "id": "4c47fcf4",
   "metadata": {},
   "outputs": [
    {
     "data": {
      "text/plain": [
       "0.1999827418584449"
      ]
     },
     "execution_count": 36,
     "metadata": {},
     "output_type": "execute_result"
    }
   ],
   "source": [
    "from sklearn.metrics import r2_score\n",
    "score=r2_score(y_test,y_predict)\n",
    "score"
   ]
  },
  {
   "cell_type": "code",
   "execution_count": 50,
   "id": "9d392a47",
   "metadata": {},
   "outputs": [
    {
     "data": {
      "text/plain": [
       "0.888435377796959"
      ]
     },
     "execution_count": 50,
     "metadata": {},
     "output_type": "execute_result"
    }
   ],
   "source": [
    "from sklearn.metrics import mean_squared_error\n",
    "mse=mean_squared_error(y_test,y_predict)\n",
    "mse\n",
    "rmse=np.sqrt(mse)\n",
    "rmse"
   ]
  },
  {
   "cell_type": "code",
   "execution_count": null,
   "id": "8c5d9c18",
   "metadata": {},
   "outputs": [],
   "source": []
  },
  {
   "cell_type": "markdown",
   "id": "ab3c1681",
   "metadata": {},
   "source": [
    "# SVM algorithm"
   ]
  },
  {
   "cell_type": "code",
   "execution_count": 39,
   "id": "60f539f6",
   "metadata": {},
   "outputs": [],
   "source": [
    "from sklearn import svm\n",
    "from sklearn.svm import SVR"
   ]
  },
  {
   "cell_type": "code",
   "execution_count": 40,
   "id": "640117ea",
   "metadata": {},
   "outputs": [
    {
     "name": "stdout",
     "output_type": "stream",
     "text": [
      "[0.8589237207728079, 0.9472971022553524, 0.9029210084034263]\n"
     ]
    }
   ],
   "source": [
    "list1=['rbf','linear','poly']\n",
    "list2=[]\n",
    "for i in range(0,len(list1)):\n",
    "    svr=svm.SVR(kernel=list1[i])\n",
    "    svr.fit(x_train,y_train)\n",
    "    y_pred=svr.predict(x_test)\n",
    "    from sklearn.metrics import mean_squared_error\n",
    "    mse=mean_squared_error(y_test,y_pred)\n",
    "    rmse=np.sqrt(mse)\n",
    "    list2.append(rmse)\n",
    "\n",
    "print(list2)"
   ]
  },
  {
   "cell_type": "code",
   "execution_count": 41,
   "id": "7f1dc291",
   "metadata": {
    "scrolled": false
   },
   "outputs": [
    {
     "data": {
      "text/html": [
       "<div>\n",
       "<style scoped>\n",
       "    .dataframe tbody tr th:only-of-type {\n",
       "        vertical-align: middle;\n",
       "    }\n",
       "\n",
       "    .dataframe tbody tr th {\n",
       "        vertical-align: top;\n",
       "    }\n",
       "\n",
       "    .dataframe thead th {\n",
       "        text-align: right;\n",
       "    }\n",
       "</style>\n",
       "<table border=\"1\" class=\"dataframe\">\n",
       "  <thead>\n",
       "    <tr style=\"text-align: right;\">\n",
       "      <th></th>\n",
       "      <th>kernel</th>\n",
       "      <th>rmse</th>\n",
       "    </tr>\n",
       "  </thead>\n",
       "  <tbody>\n",
       "    <tr>\n",
       "      <th>0</th>\n",
       "      <td>rbf</td>\n",
       "      <td>0.858924</td>\n",
       "    </tr>\n",
       "    <tr>\n",
       "      <th>1</th>\n",
       "      <td>linear</td>\n",
       "      <td>0.947297</td>\n",
       "    </tr>\n",
       "    <tr>\n",
       "      <th>2</th>\n",
       "      <td>poly</td>\n",
       "      <td>0.902921</td>\n",
       "    </tr>\n",
       "  </tbody>\n",
       "</table>\n",
       "</div>"
      ],
      "text/plain": [
       "   kernel      rmse\n",
       "0     rbf  0.858924\n",
       "1  linear  0.947297\n",
       "2    poly  0.902921"
      ]
     },
     "execution_count": 41,
     "metadata": {},
     "output_type": "execute_result"
    }
   ],
   "source": [
    "df2=pd.DataFrame({'kernel':list1,'rmse':list2})\n",
    "df2"
   ]
  },
  {
   "cell_type": "code",
   "execution_count": 42,
   "id": "9b24cf52",
   "metadata": {},
   "outputs": [
    {
     "data": {
      "text/plain": [
       "<AxesSubplot:>"
      ]
     },
     "execution_count": 42,
     "metadata": {},
     "output_type": "execute_result"
    },
    {
     "data": {
      "image/png": "[encoded data removed]",
      "text/plain": [
       "<Figure size 432x288 with 1 Axes>"
      ]
     },
     "metadata": {},
     "output_type": "display_data"
    }
   ],
   "source": [
    "df2.plot(kind='bar')"
   ]
  },
  {
   "cell_type": "code",
   "execution_count": 43,
   "id": "4b9b0a3e",
   "metadata": {},
   "outputs": [
    {
     "name": "stdout",
     "output_type": "stream",
     "text": [
      "r2_score with rbf kernel  0.17368205621974087\n"
     ]
    }
   ],
   "source": [
    "from sklearn.metrics import r2_score\n",
    "acc=r2_score(y_test,y_pred)\n",
    "print(\"r2_score with rbf kernel \",acc)"
   ]
  },
  {
   "cell_type": "code",
   "execution_count": 44,
   "id": "4c9b2fff",
   "metadata": {},
   "outputs": [
    {
     "name": "stdout",
     "output_type": "stream",
     "text": [
      "[0.25224924303783114, 0.09046359771384815, 0.17368205621974087]\n"
     ]
    }
   ],
   "source": [
    "# r2 score w.r.t each kernel\n",
    "list1=['rbf','linear','poly']\n",
    "list2=[]\n",
    "for i in range(0,len(list1)):\n",
    "    svr=svm.SVR(kernel=list1[i])\n",
    "    svr.fit(x_train,y_train)\n",
    "    y_pred=svr.predict(x_test)\n",
    "    \n",
    "    score=r2_score(y_test,y_pred)\n",
    "    list2.append(score)\n",
    "print(list2)\n"
   ]
  },
  {
   "cell_type": "code",
   "execution_count": 45,
   "id": "ee8e2912",
   "metadata": {},
   "outputs": [
    {
     "data": {
      "text/html": [
       "<div>\n",
       "<style scoped>\n",
       "    .dataframe tbody tr th:only-of-type {\n",
       "        vertical-align: middle;\n",
       "    }\n",
       "\n",
       "    .dataframe tbody tr th {\n",
       "        vertical-align: top;\n",
       "    }\n",
       "\n",
       "    .dataframe thead th {\n",
       "        text-align: right;\n",
       "    }\n",
       "</style>\n",
       "<table border=\"1\" class=\"dataframe\">\n",
       "  <thead>\n",
       "    <tr style=\"text-align: right;\">\n",
       "      <th></th>\n",
       "      <th>kernel</th>\n",
       "      <th>r2 score</th>\n",
       "    </tr>\n",
       "  </thead>\n",
       "  <tbody>\n",
       "    <tr>\n",
       "      <th>0</th>\n",
       "      <td>rbf</td>\n",
       "      <td>0.252249</td>\n",
       "    </tr>\n",
       "    <tr>\n",
       "      <th>1</th>\n",
       "      <td>linear</td>\n",
       "      <td>0.090464</td>\n",
       "    </tr>\n",
       "    <tr>\n",
       "      <th>2</th>\n",
       "      <td>poly</td>\n",
       "      <td>0.173682</td>\n",
       "    </tr>\n",
       "  </tbody>\n",
       "</table>\n",
       "</div>"
      ],
      "text/plain": [
       "   kernel  r2 score\n",
       "0     rbf  0.252249\n",
       "1  linear  0.090464\n",
       "2    poly  0.173682"
      ]
     },
     "execution_count": 45,
     "metadata": {},
     "output_type": "execute_result"
    }
   ],
   "source": [
    "# create dataframe\n",
    "\n",
    "df4=pd.DataFrame({'kernel':list1,'r2 score':list2})\n",
    "df4"
   ]
  },
  {
   "cell_type": "code",
   "execution_count": 46,
   "id": "2d1a9ac9",
   "metadata": {},
   "outputs": [
    {
     "data": {
      "text/plain": [
       "<AxesSubplot:>"
      ]
     },
     "execution_count": 46,
     "metadata": {},
     "output_type": "execute_result"
    },
    {
     "data": {
      "image/png": "[encoded data removed]",
      "text/plain": [
       "<Figure size 432x288 with 1 Axes>"
      ]
     },
     "metadata": {},
     "output_type": "display_data"
    }
   ],
   "source": [
    "df4.plot(kind='bar')"
   ]
  },
  {
   "cell_type": "markdown",
   "id": "1f2a9e1d",
   "metadata": {},
   "source": [
    "# Conclusion:\n",
    "root mean square error for linear regression is 0.9265\n",
    "\n",
    "root mean square error for KNN is 0.8884\n",
    "\n",
    "root mean square error for SVM is 0.8589\n",
    "\n",
    "As we seen that rmse in case of SVM is least among the three,so we conclude that our model performs well with SVM"
   ]
  },
  {
   "cell_type": "code",
   "execution_count": null,
   "id": "a1ef703e",
   "metadata": {},
   "outputs": [],
   "source": []
  }
 ],
 "metadata": {
  "kernelspec": {
   "display_name": "Python 3 (ipykernel)",
   "language": "python",
   "name": "python3"
  },
  "language_info": {
   "codemirror_mode": {
    "name": "ipython",
    "version": 3
   },
   "file_extension": ".py",
   "mimetype": "text/x-python",
   "name": "python",
   "nbconvert_exporter": "python",
   "pygments_lexer": "ipython3",
   "version": "3.9.12"
  }
 },
 "nbformat": 4,
 "nbformat_minor": 5
}
